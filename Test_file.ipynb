{
 "cells": [
  {
   "cell_type": "code",
   "execution_count": 1,
   "id": "d3f83926-8dbe-4707-849c-d83ce95b3804",
   "metadata": {},
   "outputs": [],
   "source": [
    "# Importing the pickle library to load the saved model\n",
    "import pickle\n",
    "\n",
    "# Loading the model from the file 'model.h5' using pickle\n",
    "model = pickle.load(open('model.h5', 'rb'))"
   ]
  },
  {
   "cell_type": "code",
   "execution_count": 2,
   "id": "a3f5a23c-779b-4567-876f-a9a9567bc71b",
   "metadata": {},
   "outputs": [],
   "source": [
    "# Importing the pandas library\n",
    "import pandas as pd"
   ]
  },
  {
   "cell_type": "code",
   "execution_count": 3,
   "id": "7b02c2b9-1579-4af6-88e0-6d4c4a72d611",
   "metadata": {},
   "outputs": [
    {
     "name": "stdout",
     "output_type": "stream",
     "text": [
      "Survived\n"
     ]
    },
    {
     "name": "stderr",
     "output_type": "stream",
     "text": [
      "C:\\Users\\Sandun\\AppData\\Local\\Programs\\Python\\Python312\\Lib\\site-packages\\sklearn\\base.py:465: UserWarning: X does not have valid feature names, but RandomForestClassifier was fitted with feature names\n",
      "  warnings.warn(\n"
     ]
    }
   ],
   "source": [
    "# PassengerId    0\n",
    "# Pclass         0\n",
    "# Sex            male: 0 female:1\n",
    "# Age            0\n",
    "# SibSp          0\n",
    "# Parch          0\n",
    "# Fare           0\n",
    "# Embarked       'S':0,'C':1,'Q':2\n",
    "\n",
    "# Making a prediction using the loaded model for a sample input data\n",
    "pred = model.predict([[10,2,1,14.1,0,0,30.0708,1]])\n",
    "\n",
    "# Checking the prediction result and printing the corresponding message\n",
    "if pred[0] == 0:\n",
    "  print(\"So Sorry! Not survived\")\n",
    "else:\n",
    "  print(\"Survived\")"
   ]
  },
  {
   "cell_type": "code",
   "execution_count": null,
   "id": "b544a07e-b64a-4a4e-9bda-6884b1dfe5a3",
   "metadata": {},
   "outputs": [],
   "source": []
  }
 ],
 "metadata": {
  "kernelspec": {
   "display_name": "Python 3 (ipykernel)",
   "language": "python",
   "name": "python3"
  },
  "language_info": {
   "codemirror_mode": {
    "name": "ipython",
    "version": 3
   },
   "file_extension": ".py",
   "mimetype": "text/x-python",
   "name": "python",
   "nbconvert_exporter": "python",
   "pygments_lexer": "ipython3",
   "version": "3.12.1"
  }
 },
 "nbformat": 4,
 "nbformat_minor": 5
}
