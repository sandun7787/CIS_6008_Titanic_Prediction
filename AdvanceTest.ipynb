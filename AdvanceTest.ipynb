{
 "cells": [
  {
   "cell_type": "code",
   "execution_count": 1,
   "id": "15f959ad-4a40-4877-bfe5-b169dc4b44f1",
   "metadata": {},
   "outputs": [],
   "source": [
    "# Importing the pickle library to load the saved model\n",
    "import pickle\n",
    "\n",
    "# Loading the model from the file 'model.h5' using pickle\n",
    "model = pickle.load(open('model.h5', 'rb'))"
   ]
  },
  {
   "cell_type": "code",
   "execution_count": 2,
   "id": "5a54c43e-506b-4382-a7ff-f1b6f96542d6",
   "metadata": {},
   "outputs": [],
   "source": [
    "# Importing the pandas library\n",
    "import pandas as pd"
   ]
  },
  {
   "cell_type": "code",
   "execution_count": 3,
   "id": "01995b03-e192-4d78-a560-656571a8da3a",
   "metadata": {},
   "outputs": [
    {
     "name": "stdout",
     "output_type": "stream",
     "text": [
      "Survived\n"
     ]
    },
    {
     "name": "stderr",
     "output_type": "stream",
     "text": [
      "C:\\Users\\Sandun\\AppData\\Local\\Programs\\Python\\Python312\\Lib\\site-packages\\sklearn\\base.py:465: UserWarning: X does not have valid feature names, but RandomForestClassifier was fitted with feature names\n",
      "  warnings.warn(\n"
     ]
    }
   ],
   "source": [
    "# PassengerId    0\n",
    "# Pclass         0\n",
    "# Sex            male: 0 female:1\n",
    "# Age            0\n",
    "# SibSp          0\n",
    "# Parch          0\n",
    "# Fare           0\n",
    "# Embarked       'S':0,'C':1,'Q':2\n",
    "\n",
    "# Making a prediction using the loaded model for a sample input data\n",
    "pred = model.predict([[10,2,1,14.1,0,0,30.0708,1]])\n",
    "\n",
    "# Checking the prediction result and printing the corresponding message\n",
    "if pred[0] == 0:\n",
    "  print(\"So Sorry! Not survived\")\n",
    "else:\n",
    "  print(\"Survived\")"
   ]
  },
  {
   "cell_type": "code",
   "execution_count": null,
   "id": "44a56f0f-2d28-409e-bb68-8c153f97bbce",
   "metadata": {},
   "outputs": [],
   "source": []
  }
 ],
 "metadata": {
  "kernelspec": {
   "display_name": "Python 3 (ipykernel)",
   "language": "python",
   "name": "python3"
  },
  "language_info": {
   "codemirror_mode": {
    "name": "ipython",
    "version": 3
   },
   "file_extension": ".py",
   "mimetype": "text/x-python",
   "name": "python",
   "nbconvert_exporter": "python",
   "pygments_lexer": "ipython3",
   "version": "3.12.1"
  }
 },
 "nbformat": 4,
 "nbformat_minor": 5
}
